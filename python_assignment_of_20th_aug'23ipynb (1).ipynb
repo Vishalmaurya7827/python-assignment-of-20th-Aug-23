{
  "nbformat": 4,
  "nbformat_minor": 0,
  "metadata": {
    "colab": {
      "provenance": []
    },
    "kernelspec": {
      "name": "python3",
      "display_name": "Python 3"
    },
    "language_info": {
      "name": "python"
    }
  },
  "cells": [
    {
      "cell_type": "code",
      "execution_count": null,
      "metadata": {
        "id": "9MB0E9XwJgil"
      },
      "outputs": [],
      "source": [
        "# QUESTION NUMBER 1 # Write a program to reverse a string.\n",
        "def reverse_string(input_string):\n",
        "    reversed_string = input_string[::-1]\n",
        "    return reversed_string"
      ]
    },
    {
      "cell_type": "code",
      "source": [
        "# Input string\n",
        "input_string = input(\"Enter a string: \")"
      ],
      "metadata": {
        "colab": {
          "base_uri": "https://localhost:8080/"
        },
        "id": "vW7Xy9LyK6RP",
        "outputId": "28e143fb-2482-4d58-c39f-6b788f098648"
      },
      "execution_count": null,
      "outputs": [
        {
          "name": "stdout",
          "output_type": "stream",
          "text": [
            "Enter a string: pwskillsassignment20thaug'23\n"
          ]
        }
      ]
    },
    {
      "cell_type": "code",
      "source": [
        "reversed_result = reverse_string(input_string)\n",
        "print(\"Reversed string:\", reversed_result)"
      ],
      "metadata": {
        "colab": {
          "base_uri": "https://localhost:8080/"
        },
        "id": "ao2GzW9fLAWy",
        "outputId": "d5431c5f-1c54-41fe-909c-61a97de5d5f8"
      },
      "execution_count": null,
      "outputs": [
        {
          "output_type": "stream",
          "name": "stdout",
          "text": [
            "Reversed string: 32'guaht02tnemngissasllikswp\n"
          ]
        }
      ]
    },
    {
      "cell_type": "code",
      "source": [
        "#Questions 3 :- Convert a string to uppercase.\n",
        "input_string = input(\"Enter a string: \")"
      ],
      "metadata": {
        "colab": {
          "base_uri": "https://localhost:8080/"
        },
        "id": "ls77CeKiM1Fk",
        "outputId": "8e2bffd5-460d-4614-91c5-9c57cd4c1a70"
      },
      "execution_count": null,
      "outputs": [
        {
          "name": "stdout",
          "output_type": "stream",
          "text": [
            "Enter a string: ilovepwskillsclasses\n"
          ]
        }
      ]
    },
    {
      "cell_type": "code",
      "source": [
        "uppercase_string = input_string.upper()\n",
        "print(\"Uppercase string:\", uppercase_string)"
      ],
      "metadata": {
        "colab": {
          "base_uri": "https://localhost:8080/"
        },
        "id": "fWbsVmdlTDM3",
        "outputId": "b6202cc8-c093-42b8-d894-df20faadde35"
      },
      "execution_count": null,
      "outputs": [
        {
          "output_type": "stream",
          "name": "stdout",
          "text": [
            "Uppercase string: ILOVEPWSKILLSCLASSES\n"
          ]
        }
      ]
    },
    {
      "cell_type": "code",
      "source": [
        "#Questions 4 :- Convert a string to lowercase.\n",
        "input_string = input(\"Enter a string: \")"
      ],
      "metadata": {
        "colab": {
          "base_uri": "https://localhost:8080/"
        },
        "id": "CbX4gzkbTPwz",
        "outputId": "b956cd25-6b1f-4a92-a5c0-0026dad4d340"
      },
      "execution_count": null,
      "outputs": [
        {
          "name": "stdout",
          "output_type": "stream",
          "text": [
            "Enter a string: ILOVEPWSKILLSCLASSES\n"
          ]
        }
      ]
    },
    {
      "cell_type": "code",
      "source": [
        "lowercase_string = input_string.lower()\n",
        "print(\"Lowercase string:\", lowercase_string)"
      ],
      "metadata": {
        "colab": {
          "base_uri": "https://localhost:8080/"
        },
        "id": "Jf0BAcHPTdRE",
        "outputId": "bcb87206-d929-4b92-ecb8-5bd18214e4a5"
      },
      "execution_count": null,
      "outputs": [
        {
          "output_type": "stream",
          "name": "stdout",
          "text": [
            "Lowercase string: ilovepwskillsclasses\n"
          ]
        }
      ]
    },
    {
      "cell_type": "code",
      "source": [
        "input_string = input(\"Enter a string: \")"
      ],
      "metadata": {
        "colab": {
          "base_uri": "https://localhost:8080/"
        },
        "id": "jxC033FfTzFJ",
        "outputId": "b7e17d94-14f1-42d1-e636-edc76d161261"
      },
      "execution_count": null,
      "outputs": [
        {
          "name": "stdout",
          "output_type": "stream",
          "text": [
            "Enter a string: ilovemy indian culture\n"
          ]
        }
      ]
    },
    {
      "cell_type": "code",
      "source": [
        "lowercase_string = input_string.lower()\n",
        "print(\"Lowercase string:\", lowercase_string)"
      ],
      "metadata": {
        "colab": {
          "base_uri": "https://localhost:8080/"
        },
        "id": "v1aYgTpqUCo4",
        "outputId": "8197e2dc-b3c5-4a54-89f1-02fa2a0b58b4"
      },
      "execution_count": null,
      "outputs": [
        {
          "output_type": "stream",
          "name": "stdout",
          "text": [
            "Lowercase string: ilovemy indian culture\n"
          ]
        }
      ]
    },
    {
      "cell_type": "code",
      "source": [
        "#QUESTION NUMBER 5\n",
        "def count_vowels(input_string):\n",
        "    # Define a set of vowels (both uppercase and lowercase)\n",
        "    vowels = set(\"AEIOUaeiou\")"
      ],
      "metadata": {
        "id": "ou4FOXKMXRci"
      },
      "execution_count": null,
      "outputs": []
    },
    {
      "cell_type": "code",
      "source": [
        "# Initialize a count variable to 0\n",
        "count = 0\n"
      ],
      "metadata": {
        "id": "922SfFAlZHcW"
      },
      "execution_count": null,
      "outputs": []
    },
    {
      "cell_type": "code",
      "source": [
        "# Iterate through the characters in the input string\n",
        "count += 1\n"
      ],
      "metadata": {
        "id": "OQ5J532mbOYp"
      },
      "execution_count": null,
      "outputs": []
    },
    {
      "cell_type": "code",
      "source": [
        "# Input string\n",
        "input_string = input(\"Enter a string: \")"
      ],
      "metadata": {
        "colab": {
          "base_uri": "https://localhost:8080/"
        },
        "id": "lp-IqL5Ebgtg",
        "outputId": "2ebf63b9-c476-405a-fd5a-736714fe1aab"
      },
      "execution_count": null,
      "outputs": [
        {
          "name": "stdout",
          "output_type": "stream",
          "text": [
            "Enter a string: 5\n"
          ]
        }
      ]
    },
    {
      "cell_type": "code",
      "source": [
        "\n",
        "vowel_count = count_vowels(input_string)\n",
        "\n",
        "print(\"Number of vowels:\", vowel_count"
      ],
      "metadata": {
        "colab": {
          "base_uri": "https://localhost:8080/",
          "height": 142
        },
        "id": "uvXx1nMPcJB1",
        "outputId": "6517ee8e-c814-4ddc-b6ae-4c76eb956c6a"
      },
      "execution_count": null,
      "outputs": [
        {
          "output_type": "error",
          "ename": "SyntaxError",
          "evalue": "ignored",
          "traceback": [
            "\u001b[0;36m  File \u001b[0;32m\"<ipython-input-4-50b8c1154e7c>\"\u001b[0;36m, line \u001b[0;32m3\u001b[0m\n\u001b[0;31m    print(\"Number of vowels:\", vowel_count\u001b[0m\n\u001b[0m                                          ^\u001b[0m\n\u001b[0;31mSyntaxError\u001b[0m\u001b[0;31m:\u001b[0m incomplete input\n"
          ]
        }
      ]
    },
    {
      "cell_type": "code",
      "source": [
        "#Question number 6 :-Count the number of consonants in a string.\n",
        "\n",
        "# Define a set of vowels (both uppercase and lowercase)\n",
        "vowels = set(\"AEIOUaeiou\")"
      ],
      "metadata": {
        "id": "z6e-STHYcV-1"
      },
      "execution_count": null,
      "outputs": []
    },
    {
      "cell_type": "code",
      "source": [
        " count = 0\n",
        "count += 1"
      ],
      "metadata": {
        "id": "u9JUc7dW0wwN"
      },
      "execution_count": null,
      "outputs": []
    },
    {
      "cell_type": "code",
      "source": [
        "input_string = input(\"Enter a string: \")"
      ],
      "metadata": {
        "colab": {
          "base_uri": "https://localhost:8080/"
        },
        "id": "e4cg0uHH1ggX",
        "outputId": "5fe5350e-31e3-45e8-873b-7debb2f8b78f"
      },
      "execution_count": null,
      "outputs": [
        {
          "name": "stdout",
          "output_type": "stream",
          "text": [
            "Enter a string: pwskills\n"
          ]
        }
      ]
    },
    {
      "cell_type": "code",
      "source": [
        "consonant_count = count_consonant(input_string)\n",
        "print(\"Number of consonants:\", consonant_count)"
      ],
      "metadata": {
        "colab": {
          "base_uri": "https://localhost:8080/",
          "height": 195
        },
        "id": "eBgJBJum2FzI",
        "outputId": "4bee1d8c-bf1e-4bc6-92a4-20b05fb4ebd9"
      },
      "execution_count": null,
      "outputs": [
        {
          "output_type": "error",
          "ename": "NameError",
          "evalue": "ignored",
          "traceback": [
            "\u001b[0;31m---------------------------------------------------------------------------\u001b[0m",
            "\u001b[0;31mNameError\u001b[0m                                 Traceback (most recent call last)",
            "\u001b[0;32m<ipython-input-47-cebe2ecbb0e8>\u001b[0m in \u001b[0;36m<cell line: 1>\u001b[0;34m()\u001b[0m\n\u001b[0;32m----> 1\u001b[0;31m \u001b[0mconsonant_count\u001b[0m \u001b[0;34m=\u001b[0m \u001b[0mcount_consonant\u001b[0m\u001b[0;34m(\u001b[0m\u001b[0minput_string\u001b[0m\u001b[0;34m)\u001b[0m\u001b[0;34m\u001b[0m\u001b[0;34m\u001b[0m\u001b[0m\n\u001b[0m\u001b[1;32m      2\u001b[0m \u001b[0mprint\u001b[0m\u001b[0;34m(\u001b[0m\u001b[0;34m\"Number of consonants:\"\u001b[0m\u001b[0;34m,\u001b[0m \u001b[0mconsonant_count\u001b[0m\u001b[0;34m)\u001b[0m\u001b[0;34m\u001b[0m\u001b[0;34m\u001b[0m\u001b[0m\n",
            "\u001b[0;31mNameError\u001b[0m: name 'count_consonant' is not defined"
          ]
        }
      ]
    },
    {
      "cell_type": "code",
      "source": [
        "#question number 7 #Remove all whitespaces from a string?\n",
        "input_string = input(\"Enter a string: \")"
      ],
      "metadata": {
        "colab": {
          "base_uri": "https://localhost:8080/"
        },
        "id": "erw5YqJc2V1J",
        "outputId": "b13425c7-0db6-4491-d57d-20c4d8d7af9a"
      },
      "execution_count": null,
      "outputs": [
        {
          "name": "stdout",
          "output_type": "stream",
          "text": [
            "Enter a string: vishu maurya\n"
          ]
        }
      ]
    },
    {
      "cell_type": "code",
      "source": [
        "no_whitespace_string = input_string.replace(\" \", \"\")\n",
        "print(\"String with whitespaces removed:\", no_whitespace_string)"
      ],
      "metadata": {
        "colab": {
          "base_uri": "https://localhost:8080/"
        },
        "id": "yckHL05p3bbh",
        "outputId": "7bf1ea1e-38eb-47d0-87ad-7a573bac8cad"
      },
      "execution_count": null,
      "outputs": [
        {
          "output_type": "stream",
          "name": "stdout",
          "text": [
            "String with whitespaces removed: vishumaurya\n"
          ]
        }
      ]
    },
    {
      "cell_type": "code",
      "source": [
        "#question number 8 #Find the length of a string without using the `len()` function.\n",
        "def string_length(input_string):\n",
        "    count = 0\n",
        "    for char in input_string:\n",
        "        count += 1\n",
        "    return count"
      ],
      "metadata": {
        "id": "KpbB7eAe3suG"
      },
      "execution_count": null,
      "outputs": []
    },
    {
      "cell_type": "code",
      "source": [
        "input_string = input(\"Enter a string: \")\n"
      ],
      "metadata": {
        "colab": {
          "base_uri": "https://localhost:8080/"
        },
        "id": "-1T930d44es7",
        "outputId": "1b1d564c-5053-4904-d66d-60f197f5b573"
      },
      "execution_count": null,
      "outputs": [
        {
          "name": "stdout",
          "output_type": "stream",
          "text": [
            "Enter a string: pwskills pythonclass\n"
          ]
        }
      ]
    },
    {
      "cell_type": "code",
      "source": [
        "length = string_length(input_string)\n",
        "print(\"Length of the string:\", length)"
      ],
      "metadata": {
        "colab": {
          "base_uri": "https://localhost:8080/"
        },
        "id": "Tma9Y7194qJm",
        "outputId": "e5bfb06d-2a82-42c1-e8ba-dc38e1cd50fa"
      },
      "execution_count": null,
      "outputs": [
        {
          "output_type": "stream",
          "name": "stdout",
          "text": [
            "Length of the string: 20\n"
          ]
        }
      ]
    },
    {
      "cell_type": "code",
      "source": [
        "#Question number 9 # Check if a string contains a specific word.\n",
        "def contains_word(input_string, word_to_check):\n",
        "    return word_to_check in input_string\n"
      ],
      "metadata": {
        "id": "PDdLA3a044e0"
      },
      "execution_count": null,
      "outputs": []
    },
    {
      "cell_type": "code",
      "source": [
        "input_string = input(\"Enter a string: \")"
      ],
      "metadata": {
        "colab": {
          "base_uri": "https://localhost:8080/"
        },
        "id": "81TUBhVX5_Fc",
        "outputId": "73ca33ba-9a4f-400f-f33d-07e0bbd7bb55"
      },
      "execution_count": null,
      "outputs": [
        {
          "name": "stdout",
          "output_type": "stream",
          "text": [
            "Enter a string: \"vishu\",\"VISHU\",VISH\" MAURYA\n"
          ]
        }
      ]
    },
    {
      "cell_type": "code",
      "source": [
        "word_to_check = input(\"Enter the word to check for: \")"
      ],
      "metadata": {
        "colab": {
          "base_uri": "https://localhost:8080/"
        },
        "id": "_RygBzkn6Hhv",
        "outputId": "f9534e59-8826-480c-ee14-49314ff96764"
      },
      "execution_count": null,
      "outputs": [
        {
          "name": "stdout",
          "output_type": "stream",
          "text": [
            "Enter the word to check for: VISHU\n"
          ]
        }
      ]
    },
    {
      "cell_type": "code",
      "source": [
        "print(\"The string contains the word.\")"
      ],
      "metadata": {
        "colab": {
          "base_uri": "https://localhost:8080/"
        },
        "id": "AB2mHW9T64RN",
        "outputId": "01ce11b3-38b7-4379-d8d9-9ecb8a91d5a2"
      },
      "execution_count": null,
      "outputs": [
        {
          "output_type": "stream",
          "name": "stdout",
          "text": [
            "The string contains the word.\n"
          ]
        }
      ]
    },
    {
      "cell_type": "code",
      "source": [
        "print(\"The string does not contain the word.\")"
      ],
      "metadata": {
        "colab": {
          "base_uri": "https://localhost:8080/"
        },
        "id": "7_j86bx47Dby",
        "outputId": "bf20aed6-2e49-4d12-8ccc-b50cb5e74549"
      },
      "execution_count": null,
      "outputs": [
        {
          "output_type": "stream",
          "name": "stdout",
          "text": [
            "The string does not contain the word.\n"
          ]
        }
      ]
    },
    {
      "cell_type": "code",
      "source": [
        "#Question number 10# Replace a word in a string with another word.\n",
        "def replace_word(input_string, old_word, new_word):\n",
        "    replaced_string = input_string.replace(old_word, new_word)\n",
        "    return replaced_string"
      ],
      "metadata": {
        "id": "S9e-4taI7PQb"
      },
      "execution_count": null,
      "outputs": []
    },
    {
      "cell_type": "code",
      "source": [
        "input_string = input(\"Enter a string: \")\n"
      ],
      "metadata": {
        "colab": {
          "base_uri": "https://localhost:8080/"
        },
        "id": "fgpkqd-o7t3k",
        "outputId": "d244387e-fa23-42e7-c8e9-b9b08243be60"
      },
      "execution_count": null,
      "outputs": [
        {
          "name": "stdout",
          "output_type": "stream",
          "text": [
            "Enter a string: vishalmaurya\n"
          ]
        }
      ]
    },
    {
      "cell_type": "code",
      "source": [
        "old_word = input(\"Enter the word to replace: \")"
      ],
      "metadata": {
        "colab": {
          "base_uri": "https://localhost:8080/"
        },
        "id": "RyEo6b4u701n",
        "outputId": "0b0eceea-f6a2-418b-be90-8dbdc43177ef"
      },
      "execution_count": null,
      "outputs": [
        {
          "name": "stdout",
          "output_type": "stream",
          "text": [
            "Enter the word to replace: vishumaurya\n"
          ]
        }
      ]
    },
    {
      "cell_type": "code",
      "source": [
        "new_word = input(\"Enter the replacement word: \")"
      ],
      "metadata": {
        "colab": {
          "base_uri": "https://localhost:8080/"
        },
        "id": "-CJaGm5o8551",
        "outputId": "9c494a3a-fc72-416b-ccff-7d582a458d8e"
      },
      "execution_count": null,
      "outputs": [
        {
          "name": "stdout",
          "output_type": "stream",
          "text": [
            "Enter the replacement word: mauryaji\n"
          ]
        }
      ]
    },
    {
      "cell_type": "code",
      "source": [
        "result_string = replace_word(input_string, old_word, new_word)\n",
        "print(\"Modified string:\", result_string)"
      ],
      "metadata": {
        "colab": {
          "base_uri": "https://localhost:8080/"
        },
        "id": "Zlgr_BxK9GpN",
        "outputId": "255893ea-7623-4715-c49d-5b3bd0097153"
      },
      "execution_count": null,
      "outputs": [
        {
          "output_type": "stream",
          "name": "stdout",
          "text": [
            "Modified string: vishalmaurya\n"
          ]
        }
      ]
    },
    {
      "cell_type": "code",
      "source": [
        "#Question number 11 #Count the occurrences of a word in a string.\n",
        "def count_word_occurrences(input_string, word_to_count):\n",
        "    return input_string.lower().count(word_to_count.lower())\n"
      ],
      "metadata": {
        "id": "XfnUc7KU9SXk"
      },
      "execution_count": null,
      "outputs": []
    },
    {
      "cell_type": "code",
      "source": [
        "input_string = input(\"Enter a string: \")\n"
      ],
      "metadata": {
        "colab": {
          "base_uri": "https://localhost:8080/"
        },
        "id": "jaB3xJG-9kZs",
        "outputId": "f56d6f50-9069-4105-cb98-d81f162baab0"
      },
      "execution_count": null,
      "outputs": [
        {
          "name": "stdout",
          "output_type": "stream",
          "text": [
            "Enter a string: vishal maurya, vishal maurya, vishal maurya\n"
          ]
        }
      ]
    },
    {
      "cell_type": "code",
      "source": [
        "word_to_count = input(\"Enter the word to count: \")"
      ],
      "metadata": {
        "colab": {
          "base_uri": "https://localhost:8080/"
        },
        "id": "1Y5xPqcp9n3w",
        "outputId": "9dec7970-b9a5-4884-bc21-45489f9e6299"
      },
      "execution_count": null,
      "outputs": [
        {
          "name": "stdout",
          "output_type": "stream",
          "text": [
            "Enter the word to count: vishal\n"
          ]
        }
      ]
    },
    {
      "cell_type": "code",
      "source": [
        "occurrence_count = count_word_occurrences(input_string, word_to_count)\n",
        "print(f\"The word '{word_to_count}' appears {occurrence_count} times in the string.\")\n"
      ],
      "metadata": {
        "colab": {
          "base_uri": "https://localhost:8080/"
        },
        "id": "kR29ZZeB90PG",
        "outputId": "67493aac-af06-4ea6-f96a-39ed6e4f2966"
      },
      "execution_count": null,
      "outputs": [
        {
          "output_type": "stream",
          "name": "stdout",
          "text": [
            "The word 'vishal' appears 3 times in the string.\n"
          ]
        }
      ]
    },
    {
      "cell_type": "code",
      "source": [
        "#Question number 12#Find the first occurrence of a word in a string.\n",
        "def find_first_occurrence(input_string, word_to_find):\n",
        "    return input_string.lower().find(word_to_find.lower())"
      ],
      "metadata": {
        "id": "ff0ha0fM9_sf"
      },
      "execution_count": null,
      "outputs": []
    },
    {
      "cell_type": "code",
      "source": [
        "text = \"This is a sample sentence. Sample text is here.\"\n",
        "word_to_find = \"sample\""
      ],
      "metadata": {
        "id": "_3rAg5sH_E2M"
      },
      "execution_count": null,
      "outputs": []
    },
    {
      "cell_type": "code",
      "source": [
        "index = text.find(word_to_find)"
      ],
      "metadata": {
        "id": "4zO3G8N1Zjtt"
      },
      "execution_count": null,
      "outputs": []
    },
    {
      "cell_type": "code",
      "source": [
        "if index != -1:\n",
        "    print(f\"The word '{word_to_find}' was found at index {index}\")"
      ],
      "metadata": {
        "colab": {
          "base_uri": "https://localhost:8080/"
        },
        "id": "iB145pnlZyky",
        "outputId": "0e6b8513-0ebf-474e-a5c8-68c1293fa004"
      },
      "execution_count": null,
      "outputs": [
        {
          "output_type": "stream",
          "name": "stdout",
          "text": [
            "The word 'sample' was found at index 10\n"
          ]
        }
      ]
    },
    {
      "cell_type": "code",
      "source": [
        "# Question number 13 # Find the last occurrence of a word in a string.\n",
        "text = \"This is a sample sentence. Sample text is here. Another sample sentence.\"\n",
        "word_to_find = \"sample\""
      ],
      "metadata": {
        "id": "i5i1OpJGZ29W"
      },
      "execution_count": null,
      "outputs": []
    },
    {
      "cell_type": "code",
      "source": [
        "index = text.rfind(word_to_find)"
      ],
      "metadata": {
        "id": "b9OW5JgbaPg1"
      },
      "execution_count": null,
      "outputs": []
    },
    {
      "cell_type": "code",
      "source": [
        "if index != -1:\n",
        "    print(f\"The last occurrence of '{word_to_find}' was found at index {index}\")"
      ],
      "metadata": {
        "colab": {
          "base_uri": "https://localhost:8080/"
        },
        "id": "9veegXZhaU3e",
        "outputId": "c28fa542-f030-4338-c68c-47ea897a165c"
      },
      "execution_count": null,
      "outputs": [
        {
          "output_type": "stream",
          "name": "stdout",
          "text": [
            "The last occurrence of 'sample' was found at index 56\n"
          ]
        }
      ]
    },
    {
      "cell_type": "code",
      "source": [
        "#Question number 14 # Split a string into a list of words.\n",
        "text = \"This is my python assignment.\""
      ],
      "metadata": {
        "id": "pUWmTaupaZZ_"
      },
      "execution_count": null,
      "outputs": []
    },
    {
      "cell_type": "code",
      "source": [
        "words = text.split()"
      ],
      "metadata": {
        "id": "UenJkZPCbCcB"
      },
      "execution_count": null,
      "outputs": []
    },
    {
      "cell_type": "code",
      "source": [
        "print(words)"
      ],
      "metadata": {
        "colab": {
          "base_uri": "https://localhost:8080/"
        },
        "id": "tIZLozPkbFgx",
        "outputId": "1b70fd2a-9898-4c9b-ba9a-2b20f2149907"
      },
      "execution_count": null,
      "outputs": [
        {
          "output_type": "stream",
          "name": "stdout",
          "text": [
            "['This', 'is', 'my', 'python', 'assignment.']\n"
          ]
        }
      ]
    },
    {
      "cell_type": "code",
      "source": [
        "#Question number 15 # Join a list of words into a string?\n",
        "words = [\"This\", \"is\", \"a\", \"assignment\", \"of\", \"Class 20th aug\"]\n",
        "\n"
      ],
      "metadata": {
        "id": "AQYlNFjhbH50"
      },
      "execution_count": null,
      "outputs": []
    },
    {
      "cell_type": "code",
      "source": [
        "result = \" \".join(words)"
      ],
      "metadata": {
        "id": "8iACJRuKb8Sp"
      },
      "execution_count": null,
      "outputs": []
    },
    {
      "cell_type": "code",
      "source": [
        "print(result)"
      ],
      "metadata": {
        "colab": {
          "base_uri": "https://localhost:8080/"
        },
        "id": "Jg81uMxvcBNw",
        "outputId": "25f88f91-59f8-4043-9dcc-772c85f7fd06"
      },
      "execution_count": null,
      "outputs": [
        {
          "output_type": "stream",
          "name": "stdout",
          "text": [
            "This is a assignment of Class 20th aug\n"
          ]
        }
      ]
    },
    {
      "cell_type": "code",
      "source": [
        "#Question number 16 #Convert a string where words are separated by spaces to one where words are separated by underscores.\n",
        "original_string = \"This is a sample string with spaces.\""
      ],
      "metadata": {
        "id": "rMvFYxgzcDp1"
      },
      "execution_count": null,
      "outputs": []
    },
    {
      "cell_type": "code",
      "source": [
        "underscore_string = original_string.replace(\" \", \"_\")\n",
        "\n"
      ],
      "metadata": {
        "id": "NL6A589Ycm80"
      },
      "execution_count": null,
      "outputs": []
    },
    {
      "cell_type": "code",
      "source": [
        "print(underscore_string)"
      ],
      "metadata": {
        "colab": {
          "base_uri": "https://localhost:8080/"
        },
        "id": "m2RwgZrqcy4i",
        "outputId": "a40ad9dd-b64b-4a99-f59d-376a28897aa7"
      },
      "execution_count": null,
      "outputs": [
        {
          "output_type": "stream",
          "name": "stdout",
          "text": [
            "This_is_a_sample_string_with_spaces.\n"
          ]
        }
      ]
    },
    {
      "cell_type": "code",
      "source": [
        "##Question number 17 # Check if a string starts with a specific word or phrase.\n",
        "text = \"Hello, world!\""
      ],
      "metadata": {
        "id": "YxXmxlbFc0sf"
      },
      "execution_count": null,
      "outputs": []
    },
    {
      "cell_type": "code",
      "source": [
        "prefix = \"Hello\""
      ],
      "metadata": {
        "id": "8p3RNoSudFO6"
      },
      "execution_count": null,
      "outputs": []
    },
    {
      "cell_type": "code",
      "source": [
        "if text.startswith(prefix):\n",
        "    print(f\"The string starts with '{prefix}'.\")"
      ],
      "metadata": {
        "colab": {
          "base_uri": "https://localhost:8080/"
        },
        "id": "5iHe_sosdG7s",
        "outputId": "7cf57ca1-2f16-4753-ba6b-587469ada106"
      },
      "execution_count": null,
      "outputs": [
        {
          "output_type": "stream",
          "name": "stdout",
          "text": [
            "The string starts with 'Hello'.\n"
          ]
        }
      ]
    },
    {
      "cell_type": "code",
      "source": [
        "#Question number 18 #Check if a string ends with a specific word or phrase.\n",
        "text = \"Hello, world!\""
      ],
      "metadata": {
        "id": "FwHttEAYdJKT"
      },
      "execution_count": null,
      "outputs": []
    },
    {
      "cell_type": "code",
      "source": [
        "suffix=\"world\""
      ],
      "metadata": {
        "id": "A0Tf5MHWdxGl"
      },
      "execution_count": null,
      "outputs": []
    },
    {
      "cell_type": "code",
      "source": [
        "if text.endswith(suffix):\n",
        "    print(f\"The string ends with '{suffix}'.\")"
      ],
      "metadata": {
        "id": "FERH0jAYeBX4"
      },
      "execution_count": null,
      "outputs": []
    },
    {
      "cell_type": "code",
      "source": [
        "#Question number 19 #Convert a string to title case (e.g., \"hello world\" to \"Hello World\")?\n",
        "input_string = \"hello world\"\n",
        "\n",
        "\n",
        "\n"
      ],
      "metadata": {
        "id": "osHnVlTVeGfj"
      },
      "execution_count": null,
      "outputs": []
    },
    {
      "cell_type": "code",
      "source": [
        "title_case_string = input_string.title()\n",
        "print(title_case_string)"
      ],
      "metadata": {
        "colab": {
          "base_uri": "https://localhost:8080/"
        },
        "id": "MiQBRVfOn11z",
        "outputId": "a6c2545b-7a8f-4584-9bb4-cbdd88afffd8"
      },
      "execution_count": null,
      "outputs": [
        {
          "output_type": "stream",
          "name": "stdout",
          "text": [
            "Hello World\n"
          ]
        }
      ]
    },
    {
      "cell_type": "code",
      "source": [
        "#Question number 20 :- # Find the longest word in a string?\n",
        "input_string = \"This is a sample sentence with some long words like 'elephant' and 'hippopotamus'.\""
      ],
      "metadata": {
        "id": "m0S1FD9DpCv3"
      },
      "execution_count": null,
      "outputs": []
    },
    {
      "cell_type": "code",
      "source": [
        "words = input_string.split()"
      ],
      "metadata": {
        "id": "UZiU19cFpidF"
      },
      "execution_count": null,
      "outputs": []
    },
    {
      "cell_type": "code",
      "source": [
        "longest_word = \"\"\n",
        "max_length = 0\n",
        "\n"
      ],
      "metadata": {
        "id": "3wLEwWHeprPa"
      },
      "execution_count": null,
      "outputs": []
    },
    {
      "cell_type": "code",
      "source": [
        "\n",
        "print(\"Longest word:\", longest_word)\n",
        "print(\"Length of longest word:\", max_length)"
      ],
      "metadata": {
        "colab": {
          "base_uri": "https://localhost:8080/"
        },
        "id": "1bf2YS-Gp1lb",
        "outputId": "fb954a7c-3248-4459-9a87-0cf7b70e29b0"
      },
      "execution_count": null,
      "outputs": [
        {
          "output_type": "stream",
          "name": "stdout",
          "text": [
            "Longest word: \n",
            "Length of longest word: 0\n"
          ]
        }
      ]
    },
    {
      "cell_type": "code",
      "source": [
        "#Question number 21 #Find the shortest word in a string.\n",
        "\n",
        "# Function to find the shortest word in a string\n",
        "def shortest_word(string):\n",
        "    # Split the string into words using whitespace as the separator\n",
        "    words = string.split()\n",
        "\n",
        "    # Check if there are any words in the string\n",
        "    if not words:\n",
        "        return None\n",
        "\n",
        "    # Initialize the shortest word as the first word in the list\n",
        "    shortest = words[0]\n",
        "\n",
        "    # Iterate through the remaining words and update the shortest word if needed\n",
        "    for word in words[1:]:\n",
        "        if len(word) < len(shortest):\n",
        "            shortest = word\n",
        "\n",
        "    return shortest\n",
        "\n",
        "# Example usage:\n",
        "input_string = \"The quick brown fox jumps over the lazy dog\"\n",
        "shortest = shortest_word(input_string)\n",
        "\n",
        "if shortest is not None:\n",
        "    print(f\"The shortest word is '{shortest}'\")\n",
        "else:\n",
        "    print(\"No words found in the input string\")\n"
      ],
      "metadata": {
        "id": "0vbFntfuqGL3",
        "colab": {
          "base_uri": "https://localhost:8080/"
        },
        "outputId": "8ce8d669-36e1-43ff-94a5-684cb6b16809"
      },
      "execution_count": 12,
      "outputs": [
        {
          "output_type": "stream",
          "name": "stdout",
          "text": [
            "The shortest word is 'The'\n"
          ]
        }
      ]
    },
    {
      "cell_type": "code",
      "source": [
        "#Question number 22 # Reverse the order of words in a string.\n",
        "input_string = \"Hello World! This is a test.\""
      ],
      "metadata": {
        "id": "3bCFOo9Dv-rv"
      },
      "execution_count": null,
      "outputs": []
    },
    {
      "cell_type": "code",
      "source": [
        "words = input_string.split()"
      ],
      "metadata": {
        "id": "KU10o_7EwSZ3"
      },
      "execution_count": null,
      "outputs": []
    },
    {
      "cell_type": "code",
      "source": [
        "words.reverse()"
      ],
      "metadata": {
        "id": "3OsrqtjCwWYh"
      },
      "execution_count": null,
      "outputs": []
    },
    {
      "cell_type": "code",
      "source": [
        "reversed_string = ' '.join(words)\n",
        "print(reversed_string)"
      ],
      "metadata": {
        "colab": {
          "base_uri": "https://localhost:8080/"
        },
        "id": "5WAms9lRwd6e",
        "outputId": "ce575172-d450-4073-acff-f45eaa517cd1"
      },
      "execution_count": null,
      "outputs": [
        {
          "output_type": "stream",
          "name": "stdout",
          "text": [
            "test. a is This World! Hello\n"
          ]
        }
      ]
    },
    {
      "cell_type": "code",
      "source": [
        "#Question number 23 # Check if a string is alphanumeric?\n"
      ],
      "metadata": {
        "id": "1O5XXh_vwpCY"
      },
      "execution_count": null,
      "outputs": []
    },
    {
      "cell_type": "code",
      "source": [
        "input_string = \"Hello123\""
      ],
      "metadata": {
        "id": "1m97UF0Kw63h"
      },
      "execution_count": null,
      "outputs": []
    },
    {
      "cell_type": "code",
      "source": [
        "if input_string.isalnum():\n",
        " print(\"The string is alphanumeric.\")\n",
        " print(\"The string is not alphanumeric.\")"
      ],
      "metadata": {
        "colab": {
          "base_uri": "https://localhost:8080/"
        },
        "id": "YA2YosW_xDKn",
        "outputId": "3879795a-30d0-4f1e-f96a-669a7b8627f4"
      },
      "execution_count": null,
      "outputs": [
        {
          "output_type": "stream",
          "name": "stdout",
          "text": [
            "The string is alphanumeric.\n",
            "The string is not alphanumeric.\n"
          ]
        }
      ]
    },
    {
      "cell_type": "code",
      "source": [],
      "metadata": {
        "id": "L55iRKNSxIDH"
      },
      "execution_count": null,
      "outputs": []
    },
    {
      "cell_type": "code",
      "source": [
        "# Question number 24 #Extract all digits from a string?\n",
        "import re\n",
        "input_string = \"Hello123World456\"\n"
      ],
      "metadata": {
        "id": "I9piaxe8xcBm"
      },
      "execution_count": null,
      "outputs": []
    },
    {
      "cell_type": "code",
      "source": [
        "digits = re.findall(r'\\d', input_string)"
      ],
      "metadata": {
        "id": "SXkd-Bq62MgG"
      },
      "execution_count": null,
      "outputs": []
    },
    {
      "cell_type": "code",
      "source": [
        "result_string = ''.join(digits)"
      ],
      "metadata": {
        "id": "3luSFOgw2PA7"
      },
      "execution_count": null,
      "outputs": []
    },
    {
      "cell_type": "code",
      "source": [
        "print(\"Extracted digits:\", result_string)"
      ],
      "metadata": {
        "colab": {
          "base_uri": "https://localhost:8080/"
        },
        "id": "oycGFdfO2Xm_",
        "outputId": "20803cbe-f666-4f20-f1ef-95d41a42f5d9"
      },
      "execution_count": null,
      "outputs": [
        {
          "output_type": "stream",
          "name": "stdout",
          "text": [
            "Extracted digits: 123456\n"
          ]
        }
      ]
    },
    {
      "cell_type": "code",
      "source": [
        "# Question number 25 #Extract all alphabets from a string?\n",
        "import re\n",
        "input_string = \"Hello123World456\""
      ],
      "metadata": {
        "id": "ChF_T6UZ2Zsc"
      },
      "execution_count": null,
      "outputs": []
    },
    {
      "cell_type": "code",
      "source": [
        "alphabets = re.findall(r'[a-zA-Z]', input_string)"
      ],
      "metadata": {
        "id": "GX0VHfbr2_OJ"
      },
      "execution_count": null,
      "outputs": []
    },
    {
      "cell_type": "code",
      "source": [
        "result_string = ''.join(alphabets)"
      ],
      "metadata": {
        "id": "ktUS-2ox3dgF"
      },
      "execution_count": null,
      "outputs": []
    },
    {
      "cell_type": "code",
      "source": [
        "print(\"Extracted alphabetic characters:\", result_string)"
      ],
      "metadata": {
        "colab": {
          "base_uri": "https://localhost:8080/"
        },
        "id": "L_5BadfJ34ZP",
        "outputId": "45256ce9-8e0f-43c2-c32d-a8d3a618e906"
      },
      "execution_count": null,
      "outputs": [
        {
          "output_type": "stream",
          "name": "stdout",
          "text": [
            "Extracted alphabetetic characters: HelloWorld\n"
          ]
        }
      ]
    },
    {
      "cell_type": "code",
      "source": [
        "#Question number 26 #Count the number of uppercase letters in a string?\n",
        "input_string = \"Hello World\""
      ],
      "metadata": {
        "id": "wUNQFvR24LMz"
      },
      "execution_count": null,
      "outputs": []
    },
    {
      "cell_type": "code",
      "source": [
        "  uppercase_count = 0"
      ],
      "metadata": {
        "id": "b_FQMCDa48oL"
      },
      "execution_count": null,
      "outputs": []
    },
    {
      "cell_type": "code",
      "source": [
        "uppercase_count += 1"
      ],
      "metadata": {
        "id": "jjdbtNSG4-pG"
      },
      "execution_count": null,
      "outputs": []
    },
    {
      "cell_type": "code",
      "source": [
        "print(\"Number of uppercase letters:\", uppercase_count)"
      ],
      "metadata": {
        "colab": {
          "base_uri": "https://localhost:8080/"
        },
        "id": "SfnHWrOW5G2A",
        "outputId": "4890f144-cbdc-4940-f327-032da9daafec"
      },
      "execution_count": null,
      "outputs": [
        {
          "output_type": "stream",
          "name": "stdout",
          "text": [
            "Number of uppercase letters: 2\n"
          ]
        }
      ]
    },
    {
      "cell_type": "code",
      "source": [
        "#Question number 27 #Count the number of lowercase letters in a string?\n",
        "input_string = \"Hello World\"\n"
      ],
      "metadata": {
        "id": "P1YCpNmK5SR1"
      },
      "execution_count": null,
      "outputs": []
    },
    {
      "cell_type": "code",
      "source": [
        "lowercase_count = 0"
      ],
      "metadata": {
        "id": "bXvpyBDc8eF8"
      },
      "execution_count": null,
      "outputs": []
    },
    {
      "cell_type": "code",
      "source": [
        "lowercase_count += 1\n",
        "lowercase_count += 1\n",
        "\n",
        "\n"
      ],
      "metadata": {
        "id": "LPbdFnsH8lCA"
      },
      "execution_count": null,
      "outputs": []
    },
    {
      "cell_type": "code",
      "source": [
        "print(\"Number of lowercase letter:\", lowercase_count)"
      ],
      "metadata": {
        "colab": {
          "base_uri": "https://localhost:8080/"
        },
        "id": "XHOnuPY-8vFV",
        "outputId": "fcaecad5-cc9e-440b-8d5c-b672a88afc96"
      },
      "execution_count": null,
      "outputs": [
        {
          "output_type": "stream",
          "name": "stdout",
          "text": [
            "Number of lowercase letter: 2\n"
          ]
        }
      ]
    },
    {
      "cell_type": "code",
      "source": [
        "#Question number 28 #Swap the case of each character in a string?\n",
        "input_string = \"Hello World\""
      ],
      "metadata": {
        "id": "gpwLCoZH9JbI"
      },
      "execution_count": null,
      "outputs": []
    },
    {
      "cell_type": "code",
      "source": [
        "swapped_string = input_string.swapcase()\n"
      ],
      "metadata": {
        "id": "FE4uYKRP9pNf"
      },
      "execution_count": null,
      "outputs": []
    },
    {
      "cell_type": "code",
      "source": [
        "print(\"String with swapped case:\", swapped_string)"
      ],
      "metadata": {
        "colab": {
          "base_uri": "https://localhost:8080/"
        },
        "id": "WbptN2Yo9wQH",
        "outputId": "141821cf-28e3-4e1a-814c-3ff245e1c851"
      },
      "execution_count": null,
      "outputs": [
        {
          "output_type": "stream",
          "name": "stdout",
          "text": [
            "String with swapped case: hELLO wORLD\n"
          ]
        }
      ]
    },
    {
      "cell_type": "code",
      "source": [
        "#Question number 29 #Remove a specific word from a string.\n",
        "input_string = \"This is a sample sentence. Remove the word 'sample' from this.\"\n"
      ],
      "metadata": {
        "id": "1sI0F4JI9zBS"
      },
      "execution_count": null,
      "outputs": []
    },
    {
      "cell_type": "code",
      "source": [
        "word_to_remove = \"sample\""
      ],
      "metadata": {
        "id": "qgubYCeZ-VeT"
      },
      "execution_count": null,
      "outputs": []
    },
    {
      "cell_type": "code",
      "source": [
        "modified_string = input_string.replace(word_to_remove, \"\")\n",
        "\n"
      ],
      "metadata": {
        "id": "HrgbjtMv-zlp"
      },
      "execution_count": null,
      "outputs": []
    },
    {
      "cell_type": "code",
      "source": [
        "print(modified_string)"
      ],
      "metadata": {
        "colab": {
          "base_uri": "https://localhost:8080/"
        },
        "id": "DRfwG18X-2DA",
        "outputId": "d1be451d-c56f-40ae-9307-7113ae98ef97"
      },
      "execution_count": null,
      "outputs": [
        {
          "output_type": "stream",
          "name": "stdout",
          "text": [
            "This is a  sentence. Remove the word '' from this.\n"
          ]
        }
      ]
    },
    {
      "cell_type": "code",
      "source": [
        "#Question number 30 # Check if a string is a valid email address?"
      ],
      "metadata": {
        "id": "15epz7WY_H_I"
      },
      "execution_count": null,
      "outputs": []
    },
    {
      "cell_type": "code",
      "source": [
        "import re"
      ],
      "metadata": {
        "id": "ES6WwBVg_cht"
      },
      "execution_count": null,
      "outputs": []
    },
    {
      "cell_type": "code",
      "source": [
        "#if re.match(pattern, email):\n",
        "return True\n",
        "return False"
      ],
      "metadata": {
        "colab": {
          "base_uri": "https://localhost:8080/",
          "height": 142
        },
        "id": "xQwI2UAX_mh_",
        "outputId": "d25eceeb-25ec-4214-8433-0dda6d3c12ad"
      },
      "execution_count": null,
      "outputs": [
        {
          "output_type": "error",
          "ename": "SyntaxError",
          "evalue": "ignored",
          "traceback": [
            "\u001b[0;36m  File \u001b[0;32m\"<ipython-input-112-79008916f24a>\"\u001b[0;36m, line \u001b[0;32m2\u001b[0m\n\u001b[0;31m    return True\u001b[0m\n\u001b[0m    ^\u001b[0m\n\u001b[0;31mSyntaxError\u001b[0m\u001b[0;31m:\u001b[0m 'return' outside function\n"
          ]
        }
      ]
    },
    {
      "cell_type": "code",
      "source": [
        "email1 = \"vishal.maurya@example.com\"\n",
        "print(\"Is email1 valid?\", is_valid_email(email1))"
      ],
      "metadata": {
        "colab": {
          "base_uri": "https://localhost:8080/",
          "height": 195
        },
        "id": "jgJhp1Zi_qQG",
        "outputId": "05322096-5f6f-4e38-f3be-a41758285bc5"
      },
      "execution_count": 2,
      "outputs": [
        {
          "output_type": "error",
          "ename": "NameError",
          "evalue": "ignored",
          "traceback": [
            "\u001b[0;31m---------------------------------------------------------------------------\u001b[0m",
            "\u001b[0;31mNameError\u001b[0m                                 Traceback (most recent call last)",
            "\u001b[0;32m<ipython-input-2-25bbe836507b>\u001b[0m in \u001b[0;36m<cell line: 2>\u001b[0;34m()\u001b[0m\n\u001b[1;32m      1\u001b[0m \u001b[0memail1\u001b[0m \u001b[0;34m=\u001b[0m \u001b[0;34m\"vishal.maurya@example.com\"\u001b[0m\u001b[0;34m\u001b[0m\u001b[0;34m\u001b[0m\u001b[0m\n\u001b[0;32m----> 2\u001b[0;31m \u001b[0mprint\u001b[0m\u001b[0;34m(\u001b[0m\u001b[0;34m\"Is email1 valid?\"\u001b[0m\u001b[0;34m,\u001b[0m \u001b[0mis_valid_email\u001b[0m\u001b[0;34m(\u001b[0m\u001b[0memail1\u001b[0m\u001b[0;34m)\u001b[0m\u001b[0;34m)\u001b[0m\u001b[0;34m\u001b[0m\u001b[0;34m\u001b[0m\u001b[0m\n\u001b[0m",
            "\u001b[0;31mNameError\u001b[0m: name 'is_valid_email' is not defined"
          ]
        }
      ]
    },
    {
      "cell_type": "code",
      "source": [
        "# Question number 31 #Extract the username from an email address string."
      ],
      "metadata": {
        "id": "d5CkDEcnAPDZ"
      },
      "execution_count": null,
      "outputs": []
    },
    {
      "cell_type": "code",
      "source": [
        "import re\n"
      ],
      "metadata": {
        "id": "nX_B76wSiJoD"
      },
      "execution_count": 1,
      "outputs": []
    },
    {
      "cell_type": "code",
      "source": [
        "email = \"example@example.com\""
      ],
      "metadata": {
        "id": "u3q_DM_liQ4A"
      },
      "execution_count": 2,
      "outputs": []
    },
    {
      "cell_type": "code",
      "source": [
        "match = re.match(r'^(.+)@', email)"
      ],
      "metadata": {
        "id": "CT45FLdTiT6u"
      },
      "execution_count": 3,
      "outputs": []
    },
    {
      "cell_type": "code",
      "source": [
        "if match:\n",
        "    username = match.group(1)\n",
        "    print(username)"
      ],
      "metadata": {
        "colab": {
          "base_uri": "https://localhost:8080/"
        },
        "id": "yyOQ2gOTipQk",
        "outputId": "01604568-0d10-4067-eb15-c711a7b097e7"
      },
      "execution_count": 4,
      "outputs": [
        {
          "output_type": "stream",
          "name": "stdout",
          "text": [
            "example\n"
          ]
        }
      ]
    },
    {
      "cell_type": "code",
      "source": [
        "#Que number 32 #Extract the domain name from an email address string\n",
        "email = \"example@example.com\"\n",
        "domain = email.split('@')[1]\n",
        "print(domain)\n"
      ],
      "metadata": {
        "colab": {
          "base_uri": "https://localhost:8080/"
        },
        "id": "VPYtMq-sjCat",
        "outputId": "07066c6d-559f-47b0-c8c9-2a0c4c7d3b3c"
      },
      "execution_count": 5,
      "outputs": [
        {
          "output_type": "stream",
          "name": "stdout",
          "text": [
            "example.com\n"
          ]
        }
      ]
    },
    {
      "cell_type": "code",
      "source": [
        "#Que Number 33 #Replace multiple spaces in a string with a single space?\n",
        "input_string = \"This   is    an   example   string  with    multiple   spaces\"\n",
        "output_string = re.sub(r'\\s+', ' ', input_string)"
      ],
      "metadata": {
        "id": "PSiYDIIWpbZm"
      },
      "execution_count": 6,
      "outputs": []
    },
    {
      "cell_type": "code",
      "source": [
        "print(output_string)"
      ],
      "metadata": {
        "colab": {
          "base_uri": "https://localhost:8080/"
        },
        "id": "2AnOrgv6py7M",
        "outputId": "e2c83bef-f5df-4574-8ee5-a43131ac5481"
      },
      "execution_count": 7,
      "outputs": [
        {
          "output_type": "stream",
          "name": "stdout",
          "text": [
            "This is an example string with multiple spaces\n"
          ]
        }
      ]
    },
    {
      "cell_type": "code",
      "source": [
        "#Que Number 34 #Check if a string is a valid URL.\n",
        "from urllib.parse import urlparse\n",
        "\n"
      ],
      "metadata": {
        "id": "Ild2NB2Wp8hA"
      },
      "execution_count": 8,
      "outputs": []
    },
    {
      "cell_type": "code",
      "source": [
        "from urllib.parse import urlparse\n",
        "\n",
        "def is_valid_url(url):\n",
        "    try:\n",
        "        result = urlparse(url)\n",
        "        return all([result.scheme, result.netloc])\n",
        "    except ValueError:\n",
        "        return False\n",
        "\n",
        "# Example usage:\n",
        "url1 = \"https://www.example.com\"\n",
        "url2 = \"not_a_valid_url\"\n",
        "\n",
        "print(is_valid_url(url1))  # True\n",
        "print(is_valid_url(url2))  # False\n"
      ],
      "metadata": {
        "colab": {
          "base_uri": "https://localhost:8080/"
        },
        "id": "yePPFQdJqSgx",
        "outputId": "333b417f-dcc0-40a7-c65c-0142689ec559"
      },
      "execution_count": 9,
      "outputs": [
        {
          "output_type": "stream",
          "name": "stdout",
          "text": [
            "True\n",
            "False\n"
          ]
        }
      ]
    },
    {
      "cell_type": "code",
      "source": [
        "#Que Number 35 #Extract the protocol (http or https) from a URL string?\n",
        "\n",
        "from urllib.parse import urlparse\n",
        "\n",
        "def extract_protocol(url):\n",
        "    try:\n",
        "        result = urlparse(url)\n",
        "        if result.scheme:\n",
        "            return result.scheme.lower()\n",
        "        else:\n",
        "            return None\n",
        "    except ValueError:\n",
        "        return None\n",
        "\n",
        "url1 = \"https://www.example.com\"\n",
        "url2 = \"http://another-example.com\"\n",
        "url3 = \"ftp://invalid-url.com\"\n",
        "\n",
        "protocol1 = extract_protocol(url1)\n",
        "protocol2 = extract_protocol(url2)\n",
        "protocol3 = extract_protocol(url3)\n",
        "\n",
        "print(protocol1)  # \"https\"\n",
        "print(protocol2)  # \"http\"\n",
        "print(protocol3)  # None (Invalid URL)\n"
      ],
      "metadata": {
        "colab": {
          "base_uri": "https://localhost:8080/"
        },
        "id": "prmWGRUgqYG0",
        "outputId": "fa2fc1f3-386f-471d-82ab-6d61bc39a05e"
      },
      "execution_count": 10,
      "outputs": [
        {
          "output_type": "stream",
          "name": "stdout",
          "text": [
            "https\n",
            "http\n",
            "ftp\n"
          ]
        }
      ]
    },
    {
      "cell_type": "code",
      "source": [
        "#Que Number 36 #Find the frequency of each character in a string?\n",
        "\n",
        "# Function to find the frequency of each character in a string\n",
        "def char_frequency(string):\n",
        "    # Initialize an empty dictionary to store character frequencies\n",
        "    frequency = {}\n",
        "\n",
        "    # Iterate through each character in the string\n",
        "    for char in string:\n",
        "        # If the character is not in the dictionary, add it with a count of 1\n",
        "        if char not in frequency:\n",
        "            frequency[char] = 1\n",
        "        # If the character is already in the dictionary, increment its count by 1\n",
        "        else:\n",
        "            frequency[char] += 1\n",
        "\n",
        "    return frequency\n",
        "\n",
        "input_string = \"hello, world!\"\n",
        "result = char_frequency(input_string)\n",
        "\n",
        "# Print the character frequencies\n",
        "for char, count in result.items():\n",
        "    print(f\"'{char}' occurs {count} times\")\n"
      ],
      "metadata": {
        "colab": {
          "base_uri": "https://localhost:8080/"
        },
        "id": "ZJBVuhzAqnv1",
        "outputId": "0f708bf3-14ed-4853-b533-9ee14a97ed2d"
      },
      "execution_count": 25,
      "outputs": [
        {
          "output_type": "stream",
          "name": "stdout",
          "text": [
            "'h' occurs 1 times\n",
            "'e' occurs 1 times\n",
            "'l' occurs 3 times\n",
            "'o' occurs 2 times\n",
            "',' occurs 1 times\n",
            "' ' occurs 1 times\n",
            "'w' occurs 1 times\n",
            "'r' occurs 1 times\n",
            "'d' occurs 1 times\n",
            "'!' occurs 1 times\n"
          ]
        }
      ]
    },
    {
      "cell_type": "code",
      "source": [
        "#Que number37 #Remove all punctuation from a string."
      ],
      "metadata": {
        "id": "ipHC4g2xq9Y5"
      },
      "execution_count": 13,
      "outputs": []
    },
    {
      "cell_type": "code",
      "source": [
        "import re\n",
        "\n",
        "def remove_punctuation(input_string):\n",
        "    # Use regular expressions to remove punctuation\n",
        "    cleaned_string = re.sub(r'[^\\w\\s]', '', input_string)\n",
        "    return cleaned_string\n",
        "\n",
        "# Example usage:\n",
        "input_string = \"Hello, World! This is an example string with punctuation!!!\"\n",
        "cleaned_string = remove_punctuation(input_string)\n",
        "\n",
        "print(cleaned_string)\n"
      ],
      "metadata": {
        "colab": {
          "base_uri": "https://localhost:8080/"
        },
        "id": "KlYuuQtEvPk3",
        "outputId": "685b53d1-487f-4925-fe46-be096ecb3adf"
      },
      "execution_count": 14,
      "outputs": [
        {
          "output_type": "stream",
          "name": "stdout",
          "text": [
            "Hello World This is an example string with punctuation\n"
          ]
        }
      ]
    },
    {
      "cell_type": "code",
      "source": [
        "#Que number 38 # Check if a string contains only digits.\n",
        "\n",
        "import re\n",
        "\n",
        "def contains_only_digits(input_string):\n",
        "    return bool(re.match(r'^\\d+$', input_string))\n",
        "\n",
        "# Example usage:\n",
        "string1 = \"12345\"\n",
        "string2 = \"123abc\"\n",
        "\n",
        "print(contains_only_digits(string1))  # True\n",
        "print(contains_only_digits(string2))  # False\n"
      ],
      "metadata": {
        "colab": {
          "base_uri": "https://localhost:8080/"
        },
        "id": "DDNjuX9jvUE7",
        "outputId": "b3302ddc-5840-456f-ab71-b6481bf592d6"
      },
      "execution_count": 15,
      "outputs": [
        {
          "output_type": "stream",
          "name": "stdout",
          "text": [
            "True\n",
            "False\n"
          ]
        }
      ]
    },
    {
      "cell_type": "code",
      "source": [
        "#Que number 39 #Check if a string contains only alphabets.\n",
        "\n",
        "\n",
        "import re\n",
        "\n",
        "def contains_only_alphabets(input_string):\n",
        "    return bool(re.match(r'^[a-zA-Z]+$', input_string))\n",
        "\n",
        "# Example usage:\n",
        "string1 = \"Hello\"\n",
        "string2 = \"Hello123\"\n",
        "\n",
        "print(contains_only_alphabets(string1))  # True\n",
        "print(contains_only_alphabets(string2))  # False\n"
      ],
      "metadata": {
        "colab": {
          "base_uri": "https://localhost:8080/"
        },
        "id": "ZzKjt-JevmXF",
        "outputId": "069ed7b8-d4a3-4fb7-b065-b6f8ffd0c7ee"
      },
      "execution_count": 16,
      "outputs": [
        {
          "output_type": "stream",
          "name": "stdout",
          "text": [
            "True\n",
            "False\n"
          ]
        }
      ]
    },
    {
      "cell_type": "code",
      "source": [
        "#Que Number 40 #Convert a string to a list of characters."
      ],
      "metadata": {
        "id": "8iTCBwQPwupL"
      },
      "execution_count": 17,
      "outputs": []
    },
    {
      "cell_type": "code",
      "source": [
        "input_string = \"Hello, World!\"\n",
        "\n",
        "# Using a list comprehension to convert the string to a list of characters\n",
        "char_list = [char for char in input_string]\n",
        "\n",
        "# Alternatively, you can use the list() constructor\n",
        "# char_list = list(input_string)\n",
        "\n",
        "print(char_list)\n"
      ],
      "metadata": {
        "colab": {
          "base_uri": "https://localhost:8080/"
        },
        "id": "8CKve2A1xhPq",
        "outputId": "0660f58c-f21f-4cbb-e162-cf6277d1baaa"
      },
      "execution_count": 18,
      "outputs": [
        {
          "output_type": "stream",
          "name": "stdout",
          "text": [
            "['H', 'e', 'l', 'l', 'o', ',', ' ', 'W', 'o', 'r', 'l', 'd', '!']\n"
          ]
        }
      ]
    },
    {
      "cell_type": "code",
      "source": [
        "input_string = \"Hello, World!\""
      ],
      "metadata": {
        "id": "fktATgGzxtln"
      },
      "execution_count": 19,
      "outputs": []
    },
    {
      "cell_type": "code",
      "source": [
        "char_list=[char for char in input_string]"
      ],
      "metadata": {
        "id": "FtOvjWUEx9C1"
      },
      "execution_count": 20,
      "outputs": []
    },
    {
      "cell_type": "code",
      "source": [
        "print(char_list)"
      ],
      "metadata": {
        "colab": {
          "base_uri": "https://localhost:8080/"
        },
        "id": "usVLI9peyF8A",
        "outputId": "8b5b83a6-b777-4f62-d1da-2649a95597b4"
      },
      "execution_count": 21,
      "outputs": [
        {
          "output_type": "stream",
          "name": "stdout",
          "text": [
            "['H', 'e', 'l', 'l', 'o', ',', ' ', 'W', 'o', 'r', 'l', 'd', '!']\n"
          ]
        }
      ]
    },
    {
      "cell_type": "code",
      "source": [
        "#Que number 41 #Check if two strings are anagrams.\n",
        "\n",
        "def are_anagrams(str1, str2):\n",
        "\n",
        "    str1 = str1.replace(\" \", \"\").lower()\n",
        "    str2 = str2.replace(\" \", \"\").lower()\n",
        "\n",
        "\n",
        "    return sorted(str1) == sorted(str2)\n",
        "\n",
        "string1 = \"listen\"\n",
        "string2 = \"silent\"\n",
        "\n",
        "print(are_anagrams(string1, string2))  # True\n"
      ],
      "metadata": {
        "colab": {
          "base_uri": "https://localhost:8080/"
        },
        "id": "yjW0ihPpyKCJ",
        "outputId": "4aa9b6e2-1b58-4063-9067-c1d1c5a733c6"
      },
      "execution_count": 22,
      "outputs": [
        {
          "output_type": "stream",
          "name": "stdout",
          "text": [
            "True\n"
          ]
        }
      ]
    },
    {
      "cell_type": "code",
      "source": [
        "#Que number 42 #Encode a string using a Caesar cipher."
      ],
      "metadata": {
        "id": "55hkmelCyfcQ"
      },
      "execution_count": 23,
      "outputs": []
    },
    {
      "cell_type": "code",
      "source": [
        "def caesar_cipher_encode(input_string, shift):\n",
        "    encoded_string = \"\"\n",
        "\n",
        "    for char in input_string:\n",
        "        if char.isalpha():\n",
        "            is_upper = char.isupper()\n",
        "            char = char.lower()\n",
        "            char_code = ord(char)\n",
        "            char_code = (char_code - ord('a') + shift) % 26 + ord('a')\n",
        "            if is_upper:\n",
        "                char_code = chr(char_code).upper()\n",
        "            else:\n",
        "                char_code = chr(char_code)\n",
        "            encoded_string += char_code\n",
        "        else:\n",
        "            encoded_string += char\n",
        "\n",
        "    return encoded_string\n",
        "\n",
        "input_string = \"Hello, World!\"\n",
        "shift = 3\n",
        "encoded = caesar_cipher_encode(input_string, shift)\n",
        "\n",
        "print(\"Encoded:\", encoded)\n"
      ],
      "metadata": {
        "colab": {
          "base_uri": "https://localhost:8080/"
        },
        "id": "O4FaWpxvzCAk",
        "outputId": "8b95a5e2-43a3-4ea4-ff9f-73d6915eedb7"
      },
      "execution_count": 24,
      "outputs": [
        {
          "output_type": "stream",
          "name": "stdout",
          "text": [
            "Encoded: Khoor, Zruog!\n"
          ]
        }
      ]
    },
    {
      "cell_type": "code",
      "source": [
        "#Que Number 43 #Decode a Caesar cipher encoded string.\n",
        "\n",
        "def caesar_cipher_decode(encoded_string, shift):\n",
        "    decoded_string = \"\"\n",
        "\n",
        "    for char in encoded_string:\n",
        "        if char.isalpha():\n",
        "            is_upper = char.isupper()\n",
        "            char = char.lower()\n",
        "            char_code = ord(char)\n",
        "            char_code = (char_code - ord('a') - shift) % 26 + ord('a')\n",
        "            if is_upper:\n",
        "                char_code = chr(char_code).upper()\n",
        "            else:\n",
        "                char_code = chr(char_code)\n",
        "            decoded_string += char_code\n",
        "        else:\n",
        "            decoded_string += char\n",
        "\n",
        "    return decoded_string\n",
        "\n",
        "encoded_string = \"Khoor, Zruog!\"\n",
        "shift = 3\n",
        "decoded = caesar_cipher_decode(encoded_string, shift)\n",
        "\n",
        "print(\"Decoded:\", decoded)\n",
        "\n"
      ],
      "metadata": {
        "colab": {
          "base_uri": "https://localhost:8080/"
        },
        "id": "Rni9C5RBzN_w",
        "outputId": "b3514a3e-478d-4a5a-d639-02c50d604ee9"
      },
      "execution_count": 26,
      "outputs": [
        {
          "output_type": "stream",
          "name": "stdout",
          "text": [
            "Decoded: Hello, World!\n"
          ]
        }
      ]
    },
    {
      "cell_type": "code",
      "source": [
        "#Que number 44 #Find the most frequent word in a string.\n",
        "\n",
        "def most_frequent_word(input_string):\n",
        "    # Split the input string into words\n",
        "    words = input_string.split()\n",
        "\n",
        "    # Create a dictionary to store word frequencies\n",
        "    word_frequency = {}\n",
        "\n",
        "    # Count the frequency of each word\n",
        "    for word in words:\n",
        "        # Remove punctuation and convert to lowercase for consistency\n",
        "        word = word.strip('.,!?').lower()\n",
        "        if word in word_frequency:\n",
        "            word_frequency[word] += 1\n",
        "        else:\n",
        "            word_frequency[word] = 1\n",
        "\n",
        "\n",
        "    most_frequent = max(word_frequency, key=word_frequency.get)\n",
        "\n",
        "    return most_frequent\n",
        "\n",
        "input_string = \"This is a test. This is only a test. Hello, world!\"\n",
        "most_frequent = most_frequent_word(input_string)\n",
        "\n",
        "print(\"Most frequent word:\", most_frequent)\n"
      ],
      "metadata": {
        "colab": {
          "base_uri": "https://localhost:8080/"
        },
        "id": "M2Km40eqz_hT",
        "outputId": "94f157cf-c09b-44f1-e36a-26b5b85cadc9"
      },
      "execution_count": 27,
      "outputs": [
        {
          "output_type": "stream",
          "name": "stdout",
          "text": [
            "Most frequent word: this\n"
          ]
        }
      ]
    },
    {
      "cell_type": "code",
      "source": [
        "#Que number 45 #Find all unique words in a string.\n",
        "\n",
        "\n",
        "def unique_words(input_string):\n",
        "    # Split the input string into words\n",
        "    words = input_string.split()\n",
        "\n",
        "    # Create a set to store unique words\n",
        "    unique_word_set = set()\n",
        "\n",
        "    # Iterate through each word and add it to the set\n",
        "    for word in words:\n",
        "        # Remove common punctuation and convert to lowercase for consistency\n",
        "        word = word.strip('.,!?').lower()\n",
        "        unique_word_set.add(word)\n",
        "\n",
        "    return unique_word_set\n",
        "\n",
        "input_string = \"This is a test. This is only a test. Hello, world!\"\n",
        "unique_words_set = unique_words(input_string)\n",
        "\n",
        "print(\"Unique words:\", unique_words_set)\n"
      ],
      "metadata": {
        "colab": {
          "base_uri": "https://localhost:8080/"
        },
        "id": "qLniuRCB0VvU",
        "outputId": "f3e78c53-f1ff-433e-e6af-dd2153d2f8f6"
      },
      "execution_count": 28,
      "outputs": [
        {
          "output_type": "stream",
          "name": "stdout",
          "text": [
            "Unique words: {'world', 'is', 'test', 'this', 'only', 'hello', 'a'}\n"
          ]
        }
      ]
    },
    {
      "cell_type": "code",
      "source": [
        "#Que number 46 #Count the number of syllables in a string."
      ],
      "metadata": {
        "id": "YTtxyxdZ0oqr"
      },
      "execution_count": 29,
      "outputs": []
    },
    {
      "cell_type": "code",
      "source": [
        "def count_syllables(word):\n",
        "    # Convert the word to lowercase for consistency\n",
        "    word = word.lower()\n",
        "\n",
        "    # Remove common suffixes that don't contribute to syllable count\n",
        "    suffixes = ['es', 'ed', 'e']\n",
        "    for suffix in suffixes:\n",
        "        if word.endswith(suffix):\n",
        "            word = word[:-len(suffix)]\n",
        "\n",
        "    # Count vowel sequences (groups of consecutive vowels)\n",
        "    vowels = \"aeiou\"\n",
        "    syllable_count = 0\n",
        "    in_vowel_group = False\n",
        "\n",
        "    for char in word:\n",
        "        if char in vowels:\n",
        "            if not in_vowel_group:\n",
        "                syllable_count += 1\n",
        "                in_vowel_group = True\n",
        "        else:\n",
        "            in_vowel_group = False\n",
        "\n",
        "    # Adjust for single-letter words and words ending in 'y' (when 'y' is a vowel)\n",
        "    if len(word) <= 3:\n",
        "        return 1\n",
        "    elif word.endswith('y') and word[-2] not in vowels:\n",
        "        syllable_count -= 1\n",
        "\n",
        "    return syllable_count\n",
        "\n",
        "word1 = \"hello\"\n",
        "word2 = \"programming\"\n",
        "word3 = \"syllable\"\n",
        "\n",
        "syllables1 = count_syllables(word1)\n",
        "syllables2 = count_syllables(word2)\n",
        "syllables3 = count_syllables(word3)\n",
        "\n",
        "print(f\"Syllables in '{word1}': {syllables1}\")\n",
        "print(f\"Syllables in '{word2}': {syllables2}\")\n",
        "print(f\"Syllables in '{word3}': {syllables3}\")\n"
      ],
      "metadata": {
        "colab": {
          "base_uri": "https://localhost:8080/"
        },
        "id": "XzBBe61U0_pt",
        "outputId": "18b0a0f8-f742-4bdd-b27f-7313c32e8948"
      },
      "execution_count": 30,
      "outputs": [
        {
          "output_type": "stream",
          "name": "stdout",
          "text": [
            "Syllables in 'hello': 2\n",
            "Syllables in 'programming': 3\n",
            "Syllables in 'syllable': 1\n"
          ]
        }
      ]
    },
    {
      "cell_type": "code",
      "source": [
        "#Que Number 47 #Check if a string contains any special characters."
      ],
      "metadata": {
        "id": "SP_mlBiV1rAQ"
      },
      "execution_count": 31,
      "outputs": []
    },
    {
      "cell_type": "code",
      "source": [
        "import re\n",
        "\n",
        "def contains_special_characters(input_string):\n",
        "    # Define a regular expression pattern to match special characters\n",
        "    pattern = r'[^a-zA-Z0-9\\s]'\n",
        "\n",
        "    # Use re.search() to find any match in the string\n",
        "    match = re.search(pattern, input_string)\n",
        "\n",
        "    # If a match is found, return True (contains special characters), otherwise, return False\n",
        "    return match is not None\n",
        "\n",
        "string1 = \"HelloWorld123\"\n",
        "string2 = \"Hello, World!\"\n",
        "string3 = \"JustLettersAndNumbers\"\n",
        "\n",
        "print(contains_special_characters(string1))  # False\n",
        "print(contains_special_characters(string2))  # True\n",
        "print(contains_special_characters(string3))  # False\n"
      ],
      "metadata": {
        "colab": {
          "base_uri": "https://localhost:8080/"
        },
        "id": "KcQPdVWj2WmW",
        "outputId": "d34b2c56-9346-4f93-91b1-b33792ecd2a8"
      },
      "execution_count": 32,
      "outputs": [
        {
          "output_type": "stream",
          "name": "stdout",
          "text": [
            "False\n",
            "True\n",
            "False\n"
          ]
        }
      ]
    },
    {
      "cell_type": "code",
      "source": [
        "#Que number 48 #Remove the nth word from a string."
      ],
      "metadata": {
        "id": "vr0cycy92qYg"
      },
      "execution_count": 33,
      "outputs": []
    },
    {
      "cell_type": "code",
      "source": [
        "def remove_nth_word(input_string, n):\n",
        "    # Split the input string into words\n",
        "    words = input_string.split()\n",
        "\n",
        "    # Check if n is valid (within the bounds of the list)\n",
        "    if 0 <= n < len(words):\n",
        "        # Remove the nth word\n",
        "        del words[n]\n",
        "\n",
        "        # Join the remaining words back together into a string\n",
        "        result_string = ' '.join(words)\n",
        "\n",
        "        return result_string\n",
        "    else:\n",
        "        # Return the original string if n is out of bounds\n",
        "        return input_string\n",
        "\n",
        "input_string = \"This is a sample sentence to test the function.\"\n",
        "n = 3  # Remove the 3rd word (\"a\")\n",
        "\n",
        "result = remove_nth_word(input_string, n)\n",
        "print(result)\n"
      ],
      "metadata": {
        "colab": {
          "base_uri": "https://localhost:8080/"
        },
        "id": "zkiMTFWl3ICb",
        "outputId": "8359f368-399a-481e-a23d-f62ccbd53c79"
      },
      "execution_count": 34,
      "outputs": [
        {
          "output_type": "stream",
          "name": "stdout",
          "text": [
            "This is a sentence to test the function.\n"
          ]
        }
      ]
    },
    {
      "cell_type": "code",
      "source": [
        "#Que number 49 #Insert a word at the nth position in a string."
      ],
      "metadata": {
        "id": "qj3VJuAQ3Vwx"
      },
      "execution_count": 35,
      "outputs": []
    },
    {
      "cell_type": "code",
      "source": [
        "def insert_word_at_nth_position(input_string, n, new_word):\n",
        "    # Split the input string into words\n",
        "    words = input_string.split()\n",
        "\n",
        "    # Check if n is valid (within the bounds of the list)\n",
        "    if 0 <= n <= len(words):\n",
        "        # Insert the new word at the nth position\n",
        "        words.insert(n, new_word)\n",
        "\n",
        "        # Join the words back together into a string\n",
        "        result_string = ' '.join(words)\n",
        "\n",
        "        return result_string\n",
        "    else:\n",
        "        # If n is out of bounds, return the original string\n",
        "        return input_string\n",
        "input_string = \"This is a sample sentence to test the function.\"\n",
        "n = 3  # Insert the word \"new\" at the 3rd position\n",
        "\n",
        "result = insert_word_at_nth_position(input_string, n, \"new\")\n",
        "print(result)\n"
      ],
      "metadata": {
        "colab": {
          "base_uri": "https://localhost:8080/"
        },
        "id": "vvNmWxze4kmw",
        "outputId": "26bde7e5-0a11-499e-8209-cbf7db07973a"
      },
      "execution_count": 36,
      "outputs": [
        {
          "output_type": "stream",
          "name": "stdout",
          "text": [
            "This is a new sample sentence to test the function.\n"
          ]
        }
      ]
    },
    {
      "cell_type": "code",
      "source": [
        "#Que number 50 #Convert a CSV string to a list of lists.\n"
      ],
      "metadata": {
        "id": "ltQ6bRZW43W6"
      },
      "execution_count": 37,
      "outputs": []
    },
    {
      "cell_type": "code",
      "source": [
        "import csv\n",
        "from io import StringIO\n",
        "\n",
        "def csv_string_to_list(csv_string):\n",
        "    # Use StringIO to create a file-like object from the CSV string\n",
        "    csv_file = StringIO(csv_string)\n",
        "\n",
        "    # Initialize a CSV reader\n",
        "    csv_reader = csv.reader(csv_file)\n",
        "\n",
        "    # Convert the CSV data to a list of lists\n",
        "    data_list = [row for row in csv_reader]\n",
        "\n",
        "    return data_list\n",
        "\n",
        "# Example CSV string\n",
        "csv_string = \"1,Vishal,Maurya\\n2,Karan,Maurya\\n3,Arjun,Maurya\"\n",
        "\n",
        "# Convert the CSV string to a list of lists\n",
        "csv_data = csv_string_to_list(csv_string)\n",
        "\n",
        "# Print the resulting list of lists\n",
        "for row in csv_data:\n",
        "    print(row)\n"
      ],
      "metadata": {
        "colab": {
          "base_uri": "https://localhost:8080/"
        },
        "id": "QckiPHsm5AV2",
        "outputId": "b89e22b3-971c-4673-978f-fd491ba86007"
      },
      "execution_count": 38,
      "outputs": [
        {
          "output_type": "stream",
          "name": "stdout",
          "text": [
            "['1', 'Vishal', 'Maurya']\n",
            "['2', 'Karan', 'Maurya']\n",
            "['3', 'Arjun', 'Maurya']\n"
          ]
        }
      ]
    },
    {
      "cell_type": "code",
      "source": [],
      "metadata": {
        "id": "-Z8yEJcz5go6"
      },
      "execution_count": null,
      "outputs": []
    }
  ]
}